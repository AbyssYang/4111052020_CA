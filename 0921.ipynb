{
  "nbformat": 4,
  "nbformat_minor": 0,
  "metadata": {
    "colab": {
      "provenance": [],
      "authorship_tag": "ABX9TyMyKaAIHcWVztMQ4ZYVvRnT",
      "include_colab_link": true
    },
    "kernelspec": {
      "name": "python3",
      "display_name": "Python 3"
    },
    "language_info": {
      "name": "python"
    }
  },
  "cells": [
    {
      "cell_type": "markdown",
      "metadata": {
        "id": "view-in-github",
        "colab_type": "text"
      },
      "source": [
        "<a href=\"https://colab.research.google.com/github/AbyssYang/4111052020_CA/blob/main/0921.ipynb\" target=\"_parent\"><img src=\"https://colab.research.google.com/assets/colab-badge.svg\" alt=\"Open In Colab\"/></a>"
      ]
    },
    {
      "cell_type": "code",
      "execution_count": 15,
      "metadata": {
        "colab": {
          "base_uri": "https://localhost:8080/"
        },
        "id": "TXxrkrEJb-cD",
        "outputId": "cadde4cd-2cbf-48ba-9fec-086934de545a"
      },
      "outputs": [
        {
          "output_type": "stream",
          "name": "stdout",
          "text": [
            "檔案內容與資訊：\n",
            "4111052020_楊子誼\n",
            "size:0\n",
            "最修改時間:1695567009.972517\n",
            "最修改時間(人話版):Sun Sep 24 14:50:09 2023\n",
            "\n"
          ]
        }
      ],
      "source": [
        "import os\n",
        "import shutil\n",
        "import time\n",
        "\n",
        "# 建立名為CS的目錄\n",
        "os.mkdir(\"CS\")\n",
        "\n",
        "# 進入CS目錄\n",
        "os.chdir(\"CS\")\n",
        "# 在cs目錄下建立txt檔\n",
        "with open('homework.txt', 'w') as file :\n",
        "    # 在txt檔寫入內容\n",
        "    file.write(\"4111052020_楊子誼\\n\")\n",
        "    # 取得檔案資訊\n",
        "    file_size = os.path.getsize('homework.txt')\n",
        "    modification_time = os.path.getatime('homework.txt')\n",
        "    formatted_time = time.ctime(modification_time)\n",
        "    file.write(f'size:{file_size}\\n')\n",
        "    file.write(f'最修改時間:{modification_time}\\n')\n",
        "    file.write(f'最修改時間(人話版):{formatted_time}\\n')\n",
        "# 讀資料內容\n",
        "with open(\"homework.txt\", \"r\") as file:\n",
        "    content = file.read()\n",
        "    print(f\"檔案內容與資訊：\\n{content}\")\n",
        "\n",
        "# 刪除檔案\n",
        "os.remove(\"homework.txt\")\n",
        "\n",
        "# 回到上一層目錄\n",
        "os.chdir(\"..\")\n",
        "\n",
        "# 刪除目錄\n",
        "os.rmdir(\"CS\")"
      ]
    }
  ]
}