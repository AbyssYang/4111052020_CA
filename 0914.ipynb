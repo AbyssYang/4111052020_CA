{
  "nbformat": 4,
  "nbformat_minor": 0,
  "metadata": {
    "colab": {
      "provenance": [],
      "authorship_tag": "ABX9TyM12iwdq1idM9oJM5xeoSzT",
      "include_colab_link": true
    },
    "kernelspec": {
      "name": "python3",
      "display_name": "Python 3"
    },
    "language_info": {
      "name": "python"
    }
  },
  "cells": [
    {
      "cell_type": "markdown",
      "metadata": {
        "id": "view-in-github",
        "colab_type": "text"
      },
      "source": [
        "<a href=\"https://colab.research.google.com/github/AbyssYang/4111052020_CA/blob/main/0914.ipynb\" target=\"_parent\"><img src=\"https://colab.research.google.com/assets/colab-badge.svg\" alt=\"Open In Colab\"/></a>"
      ]
    },
    {
      "cell_type": "code",
      "execution_count": 5,
      "metadata": {
        "colab": {
          "base_uri": "https://localhost:8080/"
        },
        "id": "oYn6mh9gF6Qx",
        "outputId": "d7fdbe8d-f27c-4f44-b37a-ff3b0c005f61"
      },
      "outputs": [
        {
          "output_type": "stream",
          "name": "stdout",
          "text": [
            "請输入page内容（格式為：page:框架號，多个條之間用空格分隔）: 1:5 2:9 3:14\n",
            "logical_address is 10000\n",
            "The physical address is 38672\n"
          ]
        }
      ],
      "source": [
        "def memory_addressing(page_table, page_size, logical_address):\n",
        "#計算頁號和偏移量\n",
        "    page_number, offset = divmod(logical_address, page_size)\n",
        "    #查找頁表來獲得相應的框架號\n",
        "    if page_number in page_table:\n",
        "        frame_number = page_table[page_number]\n",
        "        #計算物理地址\n",
        "        physical_address = frame_number * page_size + offset\n",
        "        print(f\"The physical address is {physical_address}\")\n",
        "    else:\n",
        "\n",
        "        print(\"Invalid page number, address translation failed.\")\n",
        "\n",
        "# 提示用户输入page内容\n",
        "page_table_input = input(\"請输入page内容（格式為：page:框架號，多个條之間用空格分隔）: \")\n",
        "\n",
        "# 将用户输入的page内容解析为字典\n",
        "page_table_entries = page_table_input.split()\n",
        "page_table = {}\n",
        "for entry in page_table_entries:\n",
        "    page_number, frame_number = map(int, entry.split(':'))\n",
        "    page_table[page_number] = frame_number\n",
        "\n",
        "#定義頁大小(例如:4096字節)\n",
        "page_size =4096\n",
        "#定義邏輯地址(例如:7000)\n",
        "logical_address = int(input(\"logical_address is \"))\n",
        "#調用函數進行地址轉换\n",
        "memory_addressing(page_table, page_size, logical_address)"
      ]
    }
  ]
}