{
  "nbformat": 4,
  "nbformat_minor": 0,
  "metadata": {
    "colab": {
      "provenance": [],
      "authorship_tag": "ABX9TyMPVX4ZtvtWWlHZ8hv+6M+N",
      "include_colab_link": true
    },
    "kernelspec": {
      "name": "python3",
      "display_name": "Python 3"
    },
    "language_info": {
      "name": "python"
    }
  },
  "cells": [
    {
      "cell_type": "markdown",
      "metadata": {
        "id": "view-in-github",
        "colab_type": "text"
      },
      "source": [
        "<a href=\"https://colab.research.google.com/github/AbyssYang/4111052020_CA/blob/main/0928.ipynb\" target=\"_parent\"><img src=\"https://colab.research.google.com/assets/colab-badge.svg\" alt=\"Open In Colab\"/></a>"
      ]
    },
    {
      "cell_type": "code",
      "execution_count": 2,
      "metadata": {
        "colab": {
          "base_uri": "https://localhost:8080/"
        },
        "id": "eJ7x3k_gde-e",
        "outputId": "1864931f-3b7e-4a6b-86d1-22038ba2864b"
      },
      "outputs": [
        {
          "output_type": "stream",
          "name": "stdout",
          "text": [
            "列表內容\n",
            "(None, 'chicken', 30, 5)\n",
            "(None, 'beaf', 55, 10)\n",
            "(None, 'pork', 40, 15)\n",
            "列表內容\n",
            "(None, 'chicken', 30, 5)\n",
            "(None, 'beaf', 55, 10)\n",
            "(None, 'pork', 35, 15)\n",
            "列表內容\n",
            "(None, 'chicken', 30, 30)\n",
            "(None, 'beaf', 55, 10)\n",
            "(None, 'pork', 35, 15)\n",
            "列表內容\n",
            "(None, 'chicken', 30, 30)\n",
            "(None, 'beaf', 55, 10)\n",
            "(None, 'pork', 35, 15)\n"
          ]
        }
      ],
      "source": [
        "import sqlite3\n",
        "\n",
        "conn = sqlite3.connect('BBQ.db')\n",
        "\n",
        "cursor = conn.cursor()\n",
        "\n",
        "cursor.execute('''\n",
        "    CREATE TABLE IF NOT EXISTS meet(\n",
        "        id INTEGER PRINARY KEY,\n",
        "        name TEXT,\n",
        "        price INTEGER,\n",
        "        quantity INTEGER\n",
        "\n",
        "    ) ''')\n",
        "cursor.execute(\"INSERT INTO meet (name, price, quantity) VALUES ('chicken',30 ,5)\")\n",
        "cursor.execute(\"INSERT INTO meet (name, price, quantity) VALUES ('beaf',55 ,10)\")\n",
        "cursor.execute(\"INSERT INTO meet (name, price, quantity) VALUES ('pork',40 ,15)\")\n",
        "conn.commit()\n",
        "\n",
        "cursor.execute(\"SELECT * FROM meet\")\n",
        "meet = cursor.fetchall()\n",
        "print(\"列表內容\")\n",
        "for meets in meet:\n",
        "    print(meets)\n",
        "\n",
        "cursor.execute(\"UPDATE meet SET price = 35 WHERE name = 'pork' \")\n",
        "conn.commit()\n",
        "cursor.execute(\"SELECT * FROM meet\")\n",
        "meet = cursor.fetchall()\n",
        "print(\"列表內容\")\n",
        "for meets in meet:\n",
        "    print(meets)\n",
        "\n",
        "cursor.execute(\"UPDATE meet SET quantity = 30 WHERE name = 'chicken' \")\n",
        "conn.commit()\n",
        "cursor.execute(\"SELECT * FROM meet\")\n",
        "meet = cursor.fetchall()\n",
        "print(\"列表內容\")\n",
        "for meets in meet:\n",
        "    print(meets)\n",
        "\n",
        "cursor.execute(\"DELETE FROM meet WHERE price = 40\")\n",
        "conn.commit()\n",
        "cursor.execute(\"SELECT * FROM meet\")\n",
        "meet = cursor.fetchall()\n",
        "print(\"列表內容\")\n",
        "for meets in meet:\n",
        "    print(meets)\n",
        "\n",
        "cursor.close()\n",
        "conn.close()"
      ]
    }
  ]
}