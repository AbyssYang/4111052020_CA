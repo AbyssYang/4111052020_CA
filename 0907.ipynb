{
  "nbformat": 4,
  "nbformat_minor": 0,
  "metadata": {
    "colab": {
      "provenance": []
    },
    "kernelspec": {
      "name": "python3",
      "display_name": "Python 3"
    },
    "language_info": {
      "name": "python"
    }
  },
  "cells": [
    {
      "cell_type": "code",
      "execution_count": 3,
      "metadata": {
        "colab": {
          "base_uri": "https://localhost:8080/"
        },
        "id": "U2CA55fogi61",
        "outputId": "24e6e913-c672-44be-c3b1-8c24f31ec94f"
      },
      "outputs": [
        {
          "output_type": "stream",
          "name": "stdout",
          "text": [
            "變數x的值是:5\n",
            "變數x的值是:134760267268464\n"
          ]
        }
      ],
      "source": [
        "x = 5\n",
        "print(f'變數x的值是:{x}')\n",
        "print(f'變數x的值是:{id(x)}')\n",
        "\n",
        "\n"
      ]
    }
  ]
}